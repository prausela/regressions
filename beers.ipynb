{
 "cells": [
  {
   "cell_type": "code",
   "execution_count": 1,
   "metadata": {},
   "outputs": [],
   "source": [
    "import pandas as pd\n",
    "import numpy as np"
   ]
  },
  {
   "cell_type": "code",
   "execution_count": 2,
   "metadata": {},
   "outputs": [
    {
     "data": {
      "text/html": [
       "<div>\n",
       "<style scoped>\n",
       "    .dataframe tbody tr th:only-of-type {\n",
       "        vertical-align: middle;\n",
       "    }\n",
       "\n",
       "    .dataframe tbody tr th {\n",
       "        vertical-align: top;\n",
       "    }\n",
       "\n",
       "    .dataframe thead th {\n",
       "        text-align: right;\n",
       "    }\n",
       "</style>\n",
       "<table border=\"1\" class=\"dataframe\">\n",
       "  <thead>\n",
       "    <tr style=\"text-align: right;\">\n",
       "      <th></th>\n",
       "      <th>Cajas</th>\n",
       "      <th>Distancia</th>\n",
       "      <th>Tiempo</th>\n",
       "    </tr>\n",
       "  </thead>\n",
       "  <tbody>\n",
       "    <tr>\n",
       "      <th>0</th>\n",
       "      <td>10</td>\n",
       "      <td>30</td>\n",
       "      <td>24</td>\n",
       "    </tr>\n",
       "    <tr>\n",
       "      <th>1</th>\n",
       "      <td>15</td>\n",
       "      <td>25</td>\n",
       "      <td>27</td>\n",
       "    </tr>\n",
       "    <tr>\n",
       "      <th>2</th>\n",
       "      <td>10</td>\n",
       "      <td>40</td>\n",
       "      <td>29</td>\n",
       "    </tr>\n",
       "    <tr>\n",
       "      <th>3</th>\n",
       "      <td>20</td>\n",
       "      <td>18</td>\n",
       "      <td>31</td>\n",
       "    </tr>\n",
       "    <tr>\n",
       "      <th>4</th>\n",
       "      <td>25</td>\n",
       "      <td>22</td>\n",
       "      <td>25</td>\n",
       "    </tr>\n",
       "    <tr>\n",
       "      <th>5</th>\n",
       "      <td>18</td>\n",
       "      <td>31</td>\n",
       "      <td>33</td>\n",
       "    </tr>\n",
       "    <tr>\n",
       "      <th>6</th>\n",
       "      <td>12</td>\n",
       "      <td>26</td>\n",
       "      <td>26</td>\n",
       "    </tr>\n",
       "    <tr>\n",
       "      <th>7</th>\n",
       "      <td>14</td>\n",
       "      <td>34</td>\n",
       "      <td>28</td>\n",
       "    </tr>\n",
       "    <tr>\n",
       "      <th>8</th>\n",
       "      <td>16</td>\n",
       "      <td>29</td>\n",
       "      <td>31</td>\n",
       "    </tr>\n",
       "    <tr>\n",
       "      <th>9</th>\n",
       "      <td>22</td>\n",
       "      <td>37</td>\n",
       "      <td>39</td>\n",
       "    </tr>\n",
       "    <tr>\n",
       "      <th>10</th>\n",
       "      <td>24</td>\n",
       "      <td>20</td>\n",
       "      <td>33</td>\n",
       "    </tr>\n",
       "    <tr>\n",
       "      <th>11</th>\n",
       "      <td>17</td>\n",
       "      <td>25</td>\n",
       "      <td>30</td>\n",
       "    </tr>\n",
       "    <tr>\n",
       "      <th>12</th>\n",
       "      <td>13</td>\n",
       "      <td>27</td>\n",
       "      <td>25</td>\n",
       "    </tr>\n",
       "    <tr>\n",
       "      <th>13</th>\n",
       "      <td>30</td>\n",
       "      <td>23</td>\n",
       "      <td>42</td>\n",
       "    </tr>\n",
       "    <tr>\n",
       "      <th>14</th>\n",
       "      <td>24</td>\n",
       "      <td>33</td>\n",
       "      <td>40</td>\n",
       "    </tr>\n",
       "  </tbody>\n",
       "</table>\n",
       "</div>"
      ],
      "text/plain": [
       "    Cajas  Distancia  Tiempo\n",
       "0      10         30      24\n",
       "1      15         25      27\n",
       "2      10         40      29\n",
       "3      20         18      31\n",
       "4      25         22      25\n",
       "5      18         31      33\n",
       "6      12         26      26\n",
       "7      14         34      28\n",
       "8      16         29      31\n",
       "9      22         37      39\n",
       "10     24         20      33\n",
       "11     17         25      30\n",
       "12     13         27      25\n",
       "13     30         23      42\n",
       "14     24         33      40"
      ]
     },
     "execution_count": 2,
     "metadata": {},
     "output_type": "execute_result"
    }
   ],
   "source": [
    "beers_df = pd.read_csv(\"./cervezas.csv\", sep=\";\")\n",
    "beers_df"
   ]
  },
  {
   "cell_type": "code",
   "execution_count": 3,
   "metadata": {},
   "outputs": [],
   "source": [
    "from min_sqrs import min_sqrs"
   ]
  },
  {
   "cell_type": "code",
   "execution_count": 4,
   "metadata": {},
   "outputs": [],
   "source": [
    "def add_bias(X: np.ndarray) -> np.ndarray:\n",
    "    b_X = np.ones((X.shape[0], X.shape[1] + 1))\n",
    "    b_X[:, :-1] = X\n",
    "    return b_X"
   ]
  },
  {
   "cell_type": "code",
   "execution_count": 5,
   "metadata": {},
   "outputs": [
    {
     "data": {
      "text/plain": [
       "array([[10., 30.,  1.],\n",
       "       [15., 25.,  1.],\n",
       "       [10., 40.,  1.],\n",
       "       [20., 18.,  1.],\n",
       "       [25., 22.,  1.],\n",
       "       [18., 31.,  1.],\n",
       "       [12., 26.,  1.],\n",
       "       [14., 34.,  1.],\n",
       "       [16., 29.,  1.],\n",
       "       [22., 37.,  1.],\n",
       "       [24., 20.,  1.],\n",
       "       [17., 25.,  1.],\n",
       "       [13., 27.,  1.],\n",
       "       [30., 23.,  1.],\n",
       "       [24., 33.,  1.]])"
      ]
     },
     "execution_count": 5,
     "metadata": {},
     "output_type": "execute_result"
    }
   ],
   "source": [
    "X = beers_df[[\"Cajas\", \"Distancia\"]].to_numpy()\n",
    "X = add_bias(X)\n",
    "X"
   ]
  },
  {
   "cell_type": "code",
   "execution_count": 6,
   "metadata": {},
   "outputs": [
    {
     "data": {
      "text/plain": [
       "array([[24],\n",
       "       [27],\n",
       "       [29],\n",
       "       [31],\n",
       "       [25],\n",
       "       [33],\n",
       "       [26],\n",
       "       [28],\n",
       "       [31],\n",
       "       [39],\n",
       "       [33],\n",
       "       [30],\n",
       "       [25],\n",
       "       [42],\n",
       "       [40]])"
      ]
     },
     "execution_count": 6,
     "metadata": {},
     "output_type": "execute_result"
    }
   ],
   "source": [
    "Y = beers_df[[\"Tiempo\"]].to_numpy()\n",
    "Y"
   ]
  },
  {
   "cell_type": "code",
   "execution_count": 7,
   "metadata": {},
   "outputs": [],
   "source": [
    "linear_f = lambda x : x\n",
    "constant_f = lambda _ : 1"
   ]
  },
  {
   "cell_type": "code",
   "execution_count": 8,
   "metadata": {},
   "outputs": [],
   "source": [
    "K_fs = [linear_f, linear_f, constant_f]"
   ]
  },
  {
   "cell_type": "code",
   "execution_count": 9,
   "metadata": {},
   "outputs": [
    {
     "data": {
      "text/plain": [
       "array([[ 0.33684211],\n",
       "       [-0.47368421],\n",
       "       [32.73684211]])"
      ]
     },
     "execution_count": 9,
     "metadata": {},
     "output_type": "execute_result"
    }
   ],
   "source": [
    "K = min_sqrs(X, K_fs, Y)\n",
    "K"
   ]
  },
  {
   "cell_type": "code",
   "execution_count": 10,
   "metadata": {},
   "outputs": [],
   "source": [
    "f = lambda x1, x2 : K[0]*x1 + K[1]*x2 + K[2]"
   ]
  },
  {
   "cell_type": "code",
   "execution_count": 11,
   "metadata": {},
   "outputs": [],
   "source": [
    "vec_f = np.vectorize(f)"
   ]
  },
  {
   "cell_type": "code",
   "execution_count": 12,
   "metadata": {},
   "outputs": [
    {
     "data": {
      "text/plain": [
       "array([[21.89473684],\n",
       "       [25.94736842],\n",
       "       [17.15789474],\n",
       "       [30.94736842],\n",
       "       [30.73684211],\n",
       "       [24.11578947],\n",
       "       [24.46315789],\n",
       "       [21.34736842],\n",
       "       [24.38947368],\n",
       "       [22.62105263],\n",
       "       [31.34736842],\n",
       "       [26.62105263],\n",
       "       [24.32631579],\n",
       "       [31.94736842],\n",
       "       [25.18947368]])"
      ]
     },
     "execution_count": 12,
     "metadata": {},
     "output_type": "execute_result"
    }
   ],
   "source": [
    "F = vec_f(X[:,0], X[:,1])\n",
    "F = F.reshape((F.size, 1))\n",
    "F"
   ]
  },
  {
   "cell_type": "code",
   "execution_count": 13,
   "metadata": {},
   "outputs": [
    {
     "data": {
      "text/plain": [
       "array([[ 2.10526316],\n",
       "       [ 1.05263158],\n",
       "       [11.84210526],\n",
       "       [ 0.05263158],\n",
       "       [-5.73684211],\n",
       "       [ 8.88421053],\n",
       "       [ 1.53684211],\n",
       "       [ 6.65263158],\n",
       "       [ 6.61052632],\n",
       "       [16.37894737],\n",
       "       [ 1.65263158],\n",
       "       [ 3.37894737],\n",
       "       [ 0.67368421],\n",
       "       [10.05263158],\n",
       "       [14.81052632]])"
      ]
     },
     "execution_count": 13,
     "metadata": {},
     "output_type": "execute_result"
    }
   ],
   "source": [
    "error = Y - F\n",
    "error"
   ]
  },
  {
   "cell_type": "code",
   "execution_count": 14,
   "metadata": {},
   "outputs": [
    {
     "data": {
      "text/plain": [
       "63.41444875346102"
      ]
     },
     "execution_count": 14,
     "metadata": {},
     "output_type": "execute_result"
    }
   ],
   "source": [
    "mse = error.transpose().dot(error).item() / error.size\n",
    "mse"
   ]
  }
 ],
 "metadata": {
  "kernelspec": {
   "display_name": "Python 3",
   "language": "python",
   "name": "python3"
  },
  "language_info": {
   "codemirror_mode": {
    "name": "ipython",
    "version": 3
   },
   "file_extension": ".py",
   "mimetype": "text/x-python",
   "name": "python",
   "nbconvert_exporter": "python",
   "pygments_lexer": "ipython3",
   "version": "3.10.12"
  },
  "orig_nbformat": 4
 },
 "nbformat": 4,
 "nbformat_minor": 2
}
